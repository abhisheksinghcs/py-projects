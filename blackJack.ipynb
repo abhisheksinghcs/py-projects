{
 "cells": [
  {
   "cell_type": "markdown",
   "metadata": {},
   "source": [
    "Requirements:\n",
    "- You need to create a simple text-based BlackJack game\n",
    "- The game needs to have one player versus an automated dealer.\n",
    "- The player can stand or hit.\n",
    "- The player must be able to pick their betting amount.\n",
    "- You need to keep track of the players total money.\n",
    "- You need to alert the player of wins, losses, or busts, etc..."
   ]
  },
  {
   "cell_type": "code",
   "execution_count": 3,
   "metadata": {
    "collapsed": true
   },
   "outputs": [],
   "source": [
    "class Player(object):\n",
    "    \"\"\"\n",
    "    Keeps track of the money left with the player\n",
    "    Input: Name, Betting Amount\n",
    "    Methods: get_Remaining_Balance(), place_bet(betting_amount)\n",
    "    \"\"\"\n",
    "    balance_remaining = 0\n",
    "    def __init__(self, player_name, bet_balance):\n",
    "        Player.balance_remaining = bet_balance\n",
    "        self.player_name = player_name\n",
    "        pass\n",
    "\n",
    "    def get_Remaining_Balance(self):\n",
    "        \"\"\"\n",
    "        Get the balance remaining for the player\n",
    "        \"\"\"\n",
    "        return Player.balance_remaining\n",
    "\n",
    "    def place_bet(self, betting_amount):\n",
    "        Player.balance_remaining -= betting_amount\n",
    "        if Player.balance_remaining <= 0:\n",
    "            print (\"%s you have no money left please leave the table\" %self.player_name)\n",
    "            return\n",
    "        else:\n",
    "            print(\"{x} your bet has been placed. You have ${y}left to bet\".format(x=self.player_name, y = Player.balance_remaining))\n",
    "        pass"
   ]
  },
  {
   "cell_type": "code",
   "execution_count": 17,
   "metadata": {
    "collapsed": true
   },
   "outputs": [],
   "source": [
    "class Blackjack (object):\n",
    "    import random\n",
    "    \"\"\"\n",
    "    Keeps tracks of the state of the game wins and loses\n",
    "    Methods: hit(), stand()\n",
    "    \"\"\"\n",
    "    cards = {\n",
    "        'A': [4, 1], \n",
    "        'K': [4, 10],\n",
    "        'Q': [4, 10],\n",
    "        'J': [4, 10],\n",
    "        '10':[4, 10],\n",
    "        '9': [4, 9],\n",
    "        '8': [4, 8],\n",
    "        '7': [4, 7],\n",
    "        '6': [4, 6],\n",
    "        '5': [4, 5],\n",
    "        '4': [4, 4],\n",
    "        '3': [4, 3],\n",
    "        '2': [4, 2],\n",
    "        '1': [4, 1]\n",
    "    }\n",
    "    def __init__(self):\n",
    "        pass\n",
    "    \n",
    "    player_total = 0\n",
    "    \n",
    "    \n",
    "    def hit(self):\n",
    "        self.card_picked = random.choice(list(Blackjack.cards))\n",
    "        if Blackjack.cards[self.card_picked][0] - 1 == 0:\n",
    "            # Remove the card from the deck if this is the last card\n",
    "            Blackjack.cards.pop(self.card_picked,None)\n",
    "                        \n",
    "        print(\"You picked {x}\".format(x=self.card_picked))\n",
    "        Blackjack.player_total += Blackjack.cards[self.card_picked][1]\n",
    "        \n",
    "        # Check if the player lost the game\n",
    "        \n",
    "        if Blackjack.player_total > 21:\n",
    "            print (\"Your total is {x}. You lost\".format(x = Blackjack.player_total))\n",
    "            return -1\n",
    "        elif Blackjack.player_total == 21:\n",
    "            print (\"You win!\")\n",
    "            return 0\n",
    "        else:\n",
    "            return Blackjack.player_total\n",
    "    \n",
    "    def stand(self):\n",
    "        pass"
   ]
  },
  {
   "cell_type": "code",
   "execution_count": 18,
   "metadata": {},
   "outputs": [],
   "source": [
    "nemo = Player(\"nemo\", 100)\n",
    "nemo_game = Blackjack()\n",
    "house = Player(\"house\", 1000)\n",
    "house_game = Blackjack()"
   ]
  },
  {
   "cell_type": "code",
   "execution_count": 23,
   "metadata": {},
   "outputs": [
    {
     "name": "stdout",
     "output_type": "stream",
     "text": [
      "1. Hit or 2. Stand: 1\n",
      "gere\n",
      "You picked 4\n",
      "Your total is 23. You lost\n",
      "Your score is-1\n"
     ]
    }
   ],
   "source": [
    "choice = input(\"1. Hit or 2. Stand: \")\n",
    "\n",
    "#if user chooses Hit\n",
    "if choice == '1':\n",
    "    print (\"Your score is{x}\".format(x=nemo_game.hit()))"
   ]
  }
 ],
 "metadata": {
  "kernelspec": {
   "display_name": "Python 3",
   "language": "python",
   "name": "python3"
  },
  "language_info": {
   "codemirror_mode": {
    "name": "ipython",
    "version": 3
   },
   "file_extension": ".py",
   "mimetype": "text/x-python",
   "name": "python",
   "nbconvert_exporter": "python",
   "pygments_lexer": "ipython3",
   "version": "3.5.2"
  }
 },
 "nbformat": 4,
 "nbformat_minor": 2
}
